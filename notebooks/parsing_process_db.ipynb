{
 "cells": [
  {
   "cell_type": "code",
   "execution_count": null,
   "id": "2507e585",
   "metadata": {},
   "outputs": [],
   "source": [
    "import json\n",
    "from typing import Dict, Set\n",
    "\n",
    "import pandas as pd\n",
    "import yaml\n",
    "from IPython.display import display\n",
    "\n",
    "pd.set_option(\"display.max_rows\", 50)\n",
    "pd.set_option(\"display.max_columns\", 50)\n",
    "\n",
    "psg_directory = \"../resources/\"\n",
    "psg_data_file = \"psgc_2025-08-07.csv\"\n",
    "\n",
    "df = pd.read_csv(psg_directory + psg_data_file)\n",
    "\n",
    "df[\"psgc_id\"] = df[\"psgc_id\"].astype(str).str.zfill(10)\n",
    "df = df.map(lambda x: x.strip() if isinstance(x, str) else x)\n",
    "\n",
    "geographic_level_map = {\n",
    "    \"Reg\": \"region\",\n",
    "    \"City\": \"city\",\n",
    "    \"Mun\": \"municipality\",\n",
    "    \"Prov\": \"province\",\n",
    "    \"SubMun\": \"submunicipality\",\n",
    "    \"Bgy\": \"barangay\",\n",
    "}\n",
    "df[\"geographic_level\"] = df[\"geographic_level\"].replace(geographic_level_map)\n",
    "\n",
    "df[\"barangay_code\"] = df[\"psgc_id\"].str[-3:]\n",
    "df[\"municipality_or_city_code\"] = df[\"psgc_id\"].str[-5:-3]\n",
    "df[\"province_or_highly_urbanized_city_code\"] = df[\"psgc_id\"].str[-8:-5]\n",
    "df[\"region_code\"] = df[\"psgc_id\"].str[-10:-8]\n",
    "\n",
    "df[\"barangay_mapper\"] = df[\"psgc_id\"].str[-10:]\n",
    "df[\"municipality_or_city_mapper\"] = df[\"psgc_id\"].str[-10:-3]\n",
    "df[\"province_or_highly_urbanized_city_mapper\"] = df[\"psgc_id\"].str[-10:-5]\n",
    "df[\"region_mapper\"] = df[\"psgc_id\"].str[-10:-8]\n",
    "\n",
    "regions_filter = (\n",
    "    (df[\"province_or_highly_urbanized_city_code\"] == \"000\")\n",
    "    & (df[\"municipality_or_city_code\"] == \"00\")\n",
    "    & (df[\"barangay_code\"] == \"000\")\n",
    ")\n",
    "regions_mapper = (\n",
    "    df.loc[regions_filter, [\"region_mapper\", \"name\"]]\n",
    "    .sort_values(\"region_mapper\")\n",
    "    .set_index(\"region_mapper\", drop=True)\n",
    "    .to_dict()[\"name\"]\n",
    ")\n",
    "\n",
    "province_or_huc_filter = (\n",
    "    ~(df[\"province_or_highly_urbanized_city_code\"] == \"000\")\n",
    "    & (df[\"municipality_or_city_code\"] == \"00\")\n",
    "    & (df[\"barangay_code\"] == \"000\")\n",
    ")\n",
    "\n",
    "province_or_huc_mapper = (\n",
    "    df.loc[province_or_huc_filter, [\"province_or_highly_urbanized_city_mapper\", \"name\"]]\n",
    "    .sort_values(\"province_or_highly_urbanized_city_mapper\")\n",
    "    .set_index(\"province_or_highly_urbanized_city_mapper\")\n",
    "    .to_dict()[\"name\"]\n",
    ")\n",
    "\n",
    "municipal_or_city_filter = (\n",
    "    ~(df[\"province_or_highly_urbanized_city_code\"] == \"000\")\n",
    "    & ~(df[\"municipality_or_city_code\"] == \"00\")\n",
    "    & (df[\"barangay_code\"] == \"000\")\n",
    ")\n",
    "\n",
    "municipal_or_city_mapper = (\n",
    "    df.loc[municipal_or_city_filter, [\"municipality_or_city_mapper\", \"name\"]]\n",
    "    .sort_values(\"municipality_or_city_mapper\")\n",
    "    .set_index(\"municipality_or_city_mapper\")\n",
    "    .to_dict()[\"name\"]\n",
    ")\n",
    "\n",
    "df[\"region\"] = df[\"region_mapper\"].map(regions_mapper)\n",
    "df[\"province_or_highly_urbanized_city\"] = df[\"province_or_highly_urbanized_city_mapper\"].map(province_or_huc_mapper)\n",
    "df[\"municipality_or_city\"] = df[\"municipality_or_city_mapper\"].map(\n",
    "    municipal_or_city_mapper\n",
    ")\n",
    "\n",
    "barangay_df = df[df[\"geographic_level\"] == \"barangay\"].reset_index(drop=True)"
   ]
  },
  {
   "cell_type": "markdown",
   "id": "d3358c8b",
   "metadata": {},
   "source": [
    "# Forging SQLite dump"
   ]
  },
  {
   "cell_type": "code",
   "execution_count": null,
   "id": "43e311f9",
   "metadata": {},
   "outputs": [],
   "source": [
    "import numpy as np"
   ]
  },
  {
   "cell_type": "code",
   "execution_count": null,
   "id": "a6d2a0ef",
   "metadata": {},
   "outputs": [],
   "source": [
    "barangay_df[\"correspondence_code\"] = barangay_df[\"correspondence_code\"].astype(\"Int64\")\n",
    "not_empty = (barangay_df[\"correspondence_code\"].notna())\n",
    "barangay_df.loc[not_empty, \"correspondence_code\"] = barangay_df[not_empty][\"correspondence_code\"].astype(str).str.zfill(9).replace(\"<NA>\", np.nan)\n",
    "barangay_df[\"population\"] = pd.to_numeric(barangay_df[\"population\"].str.replace(\",\",\"\").str.replace('-','')).astype(\"Int64\")\n",
    "barangay_df[\"settlement_type\"] = barangay_df[\"settlement_type\"].replace(\"U\",\"urban\").replace(\"R\",\"rural\")\n",
    "barangay_df = barangay_df.rename({\"Unnamed: 9\":\"psgc_extras\",\"old_names\":\"legacy_name\",\"correspondence_code\":\"legacy_psgc_id\"}, axis=1)"
   ]
  },
  {
   "cell_type": "code",
   "execution_count": null,
   "id": "b9139fce",
   "metadata": {},
   "outputs": [],
   "source": [
    "barangay_df[barangay_df[\"geographic_level\"]==\"barangay\"].head(3)"
   ]
  },
  {
   "cell_type": "code",
   "execution_count": null,
   "id": "fb3d4e71",
   "metadata": {},
   "outputs": [],
   "source": [
    "barangay_df[barangay_df[\"geographic_level\"]==\"barangay\"][\"income_classification\"].value_counts(dropna=False)"
   ]
  },
  {
   "cell_type": "code",
   "execution_count": null,
   "id": "60103b1d",
   "metadata": {},
   "outputs": [],
   "source": [
    "barangay_df[\"region_mapper\"] = barangay_df[\"region_mapper\"].str.ljust(10, \"0\")\n",
    "barangay_df[\"province_or_highly_urbanized_city_mapper\"] = barangay_df[\"province_or_highly_urbanized_city_mapper\"].str.ljust(10, \"0\")\n",
    "barangay_df[\"municipality_or_city_mapper\"] = barangay_df[\"municipality_or_city_mapper\"].str.ljust(10, \"0\")\n"
   ]
  },
  {
   "cell_type": "code",
   "execution_count": null,
   "id": "e789ad0c",
   "metadata": {},
   "outputs": [],
   "source": [
    "col_ord = [\n",
    "    \"psgc_id\",\n",
    "    \"name\",\n",
    "    \"geographic_level\",\n",
    "    \"settlement_type\",\n",
    "    \"population\",\n",
    "    \"psgc_extras\",\n",
    "    \"barangay_status\",\n",
    "    \"barangay_code\",\n",
    "    \"barangay_mapper\",\n",
    "    \"municipality_or_city_code\",\n",
    "    \"municipality_or_city_mapper\",\n",
    "    \"province_or_highly_urbanized_city_code\",\n",
    "    \"province_or_highly_urbanized_city_mapper\",\n",
    "    \"region_code\",\n",
    "    \"region_mapper\",\n",
    "    \"legacy_psgc_id\",\n",
    "    \"legacy_name\",\n",
    "\n",
    "]\n",
    "barangay_df[col_ord].sample(10)"
   ]
  },
  {
   "cell_type": "code",
   "execution_count": null,
   "id": "0f4003c7",
   "metadata": {},
   "outputs": [],
   "source": [
    "barangay_table = barangay_df[col_ord]"
   ]
  },
  {
   "cell_type": "code",
   "execution_count": null,
   "id": "a703829f",
   "metadata": {},
   "outputs": [],
   "source": [
    "barangay_table.info()"
   ]
  },
  {
   "cell_type": "code",
   "execution_count": null,
   "id": "d2ee219f",
   "metadata": {},
   "outputs": [],
   "source": [
    "import sqlite3\n",
    "\n",
    "database_name: str = \"psgc.db\"\n",
    "conn = sqlite3.connect(database_name)"
   ]
  },
  {
   "cell_type": "code",
   "execution_count": null,
   "id": "c19ed07d",
   "metadata": {},
   "outputs": [],
   "source": [
    "table_name = \"barangay\"\n",
    "barangay_df[col_ord].to_sql(name=table_name,con=conn, if_exists='replace', index=False)"
   ]
  },
  {
   "cell_type": "code",
   "execution_count": null,
   "id": "3ac7990c",
   "metadata": {},
   "outputs": [],
   "source": [
    "import os\n",
    "from dotenv import load_dotenv\n",
    "\n",
    "load_dotenv()\n",
    "\n",
    "\n",
    "path_string = \"abfss://{container}@{storage_account}.dfs.core.windows.net/{path}\"\n",
    "\n",
    "\n",
    "container = os.getenv(\"container\")\n",
    "storage_account = os.getenv(\"storage_account\")\n",
    "path = os.getenv(\"cloud_path\")\n",
    "\n",
    "azure_path = path_string.format(\n",
    "    container=container, storage_account=storage_account, path=path\n",
    ")"
   ]
  },
  {
   "cell_type": "code",
   "execution_count": null,
   "id": "41187c51",
   "metadata": {},
   "outputs": [],
   "source": [
    "azure_path"
   ]
  },
  {
   "cell_type": "code",
   "execution_count": null,
   "id": "a512d139",
   "metadata": {},
   "outputs": [],
   "source": [
    "from delta import configure_spark_with_delta_pip\n",
    "from pyspark.sql import SparkSession\n",
    "\n",
    "builder = SparkSession.builder \\\n",
    "    .appName(\"DeltaWriter\") \\\n",
    "    .config(\"spark.sql.extensions\", \"io.delta.sql.DeltaSparkSessionExtension\") \\\n",
    "    .config(\"spark.sql.catalog.spark_catalog\", \"org.apache.spark.sql.delta.catalog.DeltaCatalog\")\n",
    "\n",
    "spark = configure_spark_with_delta_pip(builder).getOrCreate()"
   ]
  },
  {
   "cell_type": "code",
   "execution_count": null,
   "id": "b550e975",
   "metadata": {},
   "outputs": [],
   "source": [
    "df = spark.createDataFrame([(1, \"Alice\"), (2, \"Bob\")], [\"id\", \"name\"])\n",
    "df.write.format(\"delta\").save(\"abfss://your-container@your-storage.dfs.core.windows.net/delta-table\")"
   ]
  }
 ],
 "metadata": {
  "kernelspec": {
   "display_name": "barangay-py3.13",
   "language": "python",
   "name": "python3"
  },
  "language_info": {
   "codemirror_mode": {
    "name": "ipython",
    "version": 3
   },
   "file_extension": ".py",
   "mimetype": "text/x-python",
   "name": "python",
   "nbconvert_exporter": "python",
   "pygments_lexer": "ipython3",
   "version": "3.13.7"
  }
 },
 "nbformat": 4,
 "nbformat_minor": 5
}
